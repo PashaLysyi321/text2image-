{
 "cells": [
  {
   "cell_type": "markdown",
   "id": "exceptional-passing",
   "metadata": {
    "id": "exceptional-passing"
   },
   "source": [
    "# CLIP + BigGAN"
   ]
  },
  {
   "cell_type": "markdown",
   "id": "third-format",
   "metadata": {
    "id": "third-format"
   },
   "source": [
    "## References\n",
    "\n",
    "* [big-sleep](https://github.com/lucidrains/big-sleep)\n"
   ]
  },
  {
   "cell_type": "code",
   "execution_count": 1,
   "id": "moved-canada",
   "metadata": {
    "id": "moved-canada"
   },
   "outputs": [],
   "source": [
    "COLAB = True"
   ]
  },
  {
   "cell_type": "code",
   "execution_count": 2,
   "id": "upper-cleaning",
   "metadata": {
    "colab": {
     "base_uri": "https://localhost:8080/"
    },
    "id": "upper-cleaning",
    "outputId": "40d4d315-95f9-44a7-d431-da265a10aa9a"
   },
   "outputs": [
    {
     "name": "stderr",
     "output_type": "stream",
     "text": [
      "'nvidia-smi' is not recognized as an internal or external command,\n",
      "operable program or batch file.\n",
      "ERROR: pip's dependency resolver does not currently take into account all the packages that are installed. This behaviour is the source of the following dependency conflicts.\n",
      "torchaudio 0.9.0 requires torch==1.9.0, but you have torch 1.9.1 which is incompatible.\n"
     ]
    }
   ],
   "source": [
    "# --- Remember to change the runtime to use GPU for better performance\n",
    "if COLAB:\n",
    "    !nvidia-smi\n",
    "    !pip install -Uqq big-sleep"
   ]
  },
  {
   "cell_type": "code",
   "execution_count": 3,
   "id": "meaning-criticism",
   "metadata": {
    "colab": {
     "base_uri": "https://localhost:8080/"
    },
    "id": "meaning-criticism",
    "outputId": "a65a6f91-bfa9-4d10-c871-2956ffbfc81d"
   },
   "outputs": [
    {
     "ename": "AssertionError",
     "evalue": "CUDA must be available in order to use Big Sleep",
     "output_type": "error",
     "traceback": [
      "\u001b[1;31m---------------------------------------------------------------------------\u001b[0m",
      "\u001b[1;31mAssertionError\u001b[0m                            Traceback (most recent call last)",
      "\u001b[1;32m~\\AppData\\Local\\Temp/ipykernel_16312/1483202064.py\u001b[0m in \u001b[0;36m<module>\u001b[1;34m\u001b[0m\n\u001b[1;32m----> 1\u001b[1;33m \u001b[1;32mfrom\u001b[0m \u001b[0mbig_sleep\u001b[0m\u001b[1;33m.\u001b[0m\u001b[0mcli\u001b[0m \u001b[1;32mimport\u001b[0m \u001b[0mtrain\u001b[0m \u001b[1;32mas\u001b[0m \u001b[0mtti_big_sleep\u001b[0m\u001b[1;33m\u001b[0m\u001b[1;33m\u001b[0m\u001b[0m\n\u001b[0m",
      "\u001b[1;32md:\\program files\\python38\\lib\\site-packages\\big_sleep\\__init__.py\u001b[0m in \u001b[0;36m<module>\u001b[1;34m\u001b[0m\n\u001b[1;32m----> 1\u001b[1;33m \u001b[1;32mfrom\u001b[0m \u001b[0mbig_sleep\u001b[0m\u001b[1;33m.\u001b[0m\u001b[0mbig_sleep\u001b[0m \u001b[1;32mimport\u001b[0m \u001b[0mBigSleep\u001b[0m\u001b[1;33m,\u001b[0m \u001b[0mImagine\u001b[0m\u001b[1;33m\u001b[0m\u001b[1;33m\u001b[0m\u001b[0m\n\u001b[0m",
      "\u001b[1;32md:\\program files\\python38\\lib\\site-packages\\big_sleep\\big_sleep.py\u001b[0m in \u001b[0;36m<module>\u001b[1;34m\u001b[0m\n\u001b[0;32m     24\u001b[0m \u001b[1;32mfrom\u001b[0m \u001b[0mbig_sleep\u001b[0m\u001b[1;33m.\u001b[0m\u001b[0mclip\u001b[0m \u001b[1;32mimport\u001b[0m \u001b[0mload\u001b[0m\u001b[1;33m,\u001b[0m \u001b[0mtokenize\u001b[0m\u001b[1;33m\u001b[0m\u001b[1;33m\u001b[0m\u001b[0m\n\u001b[0;32m     25\u001b[0m \u001b[1;33m\u001b[0m\u001b[0m\n\u001b[1;32m---> 26\u001b[1;33m \u001b[1;32massert\u001b[0m \u001b[0mtorch\u001b[0m\u001b[1;33m.\u001b[0m\u001b[0mcuda\u001b[0m\u001b[1;33m.\u001b[0m\u001b[0mis_available\u001b[0m\u001b[1;33m(\u001b[0m\u001b[1;33m)\u001b[0m\u001b[1;33m,\u001b[0m \u001b[1;34m'CUDA must be available in order to use Big Sleep'\u001b[0m\u001b[1;33m\u001b[0m\u001b[1;33m\u001b[0m\u001b[0m\n\u001b[0m\u001b[0;32m     27\u001b[0m \u001b[1;33m\u001b[0m\u001b[0m\n\u001b[0;32m     28\u001b[0m \u001b[1;31m# graceful keyboard interrupt\u001b[0m\u001b[1;33m\u001b[0m\u001b[1;33m\u001b[0m\u001b[1;33m\u001b[0m\u001b[0m\n",
      "\u001b[1;31mAssertionError\u001b[0m: CUDA must be available in order to use Big Sleep"
     ]
    }
   ],
   "source": [
    "from big_sleep.cli import train as tti_big_sleep"
   ]
  },
  {
   "cell_type": "code",
   "execution_count": null,
   "id": "disciplinary-frontier",
   "metadata": {
    "colab": {
     "base_uri": "https://localhost:8080/"
    },
    "id": "disciplinary-frontier",
    "outputId": "1961a9de-ad11-4974-c090-30ca9f2d1608"
   },
   "outputs": [],
   "source": [
    "tti_big_sleep(\"fire dragon\", iterations = 100, epochs=5, overwrite=True)"
   ]
  },
  {
   "cell_type": "code",
   "execution_count": null,
   "id": "O9BjyUTyRgRN",
   "metadata": {
    "colab": {
     "base_uri": "https://localhost:8080/",
     "height": 529
    },
    "id": "O9BjyUTyRgRN",
    "outputId": "8b7f95be-790b-4e89-9ae7-11bc482e327c"
   },
   "outputs": [],
   "source": [
    "import glob\n",
    "from IPython.display import Image \n",
    "\n",
    "images = glob.glob(\"/content/*.png\")\n",
    "for image in images:\n",
    "   img = Image(filename=image)\n",
    "   display(img)"
   ]
  },
  {
   "cell_type": "code",
   "execution_count": 5,
   "id": "b6j79LlYEd3U",
   "metadata": {
    "id": "b6j79LlYEd3U"
   },
   "outputs": [],
   "source": []
  }
 ],
 "metadata": {
  "accelerator": "GPU",
  "colab": {
   "name": "08_clip_biggan.ipynb",
   "provenance": [],
   "toc_visible": true
  },
  "kernelspec": {
   "display_name": "Python 3 (ipykernel)",
   "language": "python",
   "name": "python3"
  },
  "language_info": {
   "codemirror_mode": {
    "name": "ipython",
    "version": 3
   },
   "file_extension": ".py",
   "mimetype": "text/x-python",
   "name": "python",
   "nbconvert_exporter": "python",
   "pygments_lexer": "ipython3",
   "version": "3.8.7"
  }
 },
 "nbformat": 4,
 "nbformat_minor": 5
}
